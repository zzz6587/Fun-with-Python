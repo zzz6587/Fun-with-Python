{
 "cells": [
  {
   "cell_type": "markdown",
   "id": "e4a1ac49",
   "metadata": {},
   "source": [
    "The coin change problem is commonly seen at Facebook and Amazon interviews (allegedly). You’re given coins of different denominations and a total amount of money needing to be represented with the coinage. From that, you need to write a function to compute the least number of coins that you need to make up that amount. If you can’t reach the given amount of money with any combination of the coins, you return -1. "
   ]
  },
  {
   "cell_type": "code",
   "execution_count": 1,
   "id": "d5368b20",
   "metadata": {},
   "outputs": [],
   "source": [
    "import numpy as np"
   ]
  },
  {
   "cell_type": "markdown",
   "id": "176ae765",
   "metadata": {},
   "source": [
    "#### Test coins"
   ]
  },
  {
   "cell_type": "code",
   "execution_count": 2,
   "id": "0e28e5bd",
   "metadata": {},
   "outputs": [],
   "source": [
    "UScoins = [1,5,10,25]\n",
    "Frenchcoins = [1,2,5,10,20,50]\n",
    "Alien_coins = [3,7,26,73]\n",
    "Mermaidcoins = [12,13,15,35,60]"
   ]
  },
  {
   "cell_type": "markdown",
   "id": "389c7455",
   "metadata": {},
   "source": [
    "#### Basic function for US coinage"
   ]
  },
  {
   "cell_type": "code",
   "execution_count": 3,
   "id": "e9969f66",
   "metadata": {},
   "outputs": [],
   "source": [
    "def us_coin_change(coins:list,ttl:int):\n",
    "    left = ttl\n",
    "    selected_coins = []\n",
    "    while left > 0:\n",
    "        remainders = [left-c if left-c>=0 else left for c in coins]\n",
    "        \n",
    "        if min(remainders)==left:\n",
    "            return -1\n",
    "        \n",
    "        chosen_coin_idx = remainders.index(min(remainders))\n",
    "        selected_coins.append(coins[chosen_coin_idx])\n",
    "        left -= coins[chosen_coin_idx]\n",
    "        \n",
    "        if sum(selected_coins)>ttl: # runs over total\n",
    "            return -1\n",
    "    \n",
    "    return {'number of coins':len(selected_coins),'coins':selected_coins,'remainder':ttl-np.sum(selected_coins)}"
   ]
  },
  {
   "cell_type": "code",
   "execution_count": 4,
   "id": "9b7d610a",
   "metadata": {},
   "outputs": [
    {
     "name": "stdout",
     "output_type": "stream",
     "text": [
      "{'number of coins': 9, 'coins': [25, 25, 25, 25, 25, 25, 1, 1, 1], 'remainder': 0}\n",
      "{'number of coins': 4, 'coins': [25, 10, 1, 1], 'remainder': 0}\n",
      "{'number of coins': 8, 'coins': [25, 25, 25, 5, 1, 1, 1, 1], 'remainder': 0}\n",
      "\n",
      "{'number of coins': 5, 'coins': [50, 50, 50, 2, 1], 'remainder': 0}\n",
      "{'number of coins': 4, 'coins': [20, 10, 5, 2], 'remainder': 0}\n",
      "{'number of coins': 5, 'coins': [50, 20, 10, 2, 2], 'remainder': 0}\n",
      "\n",
      "-1\n"
     ]
    }
   ],
   "source": [
    "print(us_coin_change(UScoins,153))\n",
    "print(us_coin_change(UScoins,37))\n",
    "print(us_coin_change(UScoins,84))\n",
    "print()\n",
    "print(us_coin_change(Frenchcoins,153))\n",
    "print(us_coin_change(Frenchcoins,37))\n",
    "print(us_coin_change(Frenchcoins,84))\n",
    "print()\n",
    "# this fails because it chooses 7 first, which makes it impossible to get to 12\n",
    "# the less efficient, but correct path is required, 3+3+3\n",
    "print(us_coin_change(Alien_coins,12))"
   ]
  },
  {
   "cell_type": "markdown",
   "id": "8039b342",
   "metadata": {},
   "source": [
    "#### Slightly less basic function"
   ]
  },
  {
   "cell_type": "code",
   "execution_count": 5,
   "id": "104e84b8",
   "metadata": {},
   "outputs": [],
   "source": [
    "def change(coins:list,ttl:int):\n",
    "    left = ttl\n",
    "    selected_coins = []\n",
    "    selected_factors = []\n",
    "    partial_sum, use_single_coin = 0, False\n",
    "    while left != 0:\n",
    "        \n",
    "        factors = [left//c if left//c>0 else 0 for c in coins]\n",
    "        \n",
    "        if max(factors)!=0:\n",
    "            min_factor_idx = factors.index(min([f for f in factors if f > 0]))\n",
    "            max_factor_idx = factors.index(max([f for f in factors if f > 0]))\n",
    "        \n",
    "            min_factor = factors[min_factor_idx]\n",
    "            max_factor = factors[max_factor_idx]\n",
    "\n",
    "            if max_factor*coins[max_factor_idx]==ttl:\n",
    "                use_single_coin = True \n",
    "                single_factor = max_factor\n",
    "                single_coin = coins[max_factor_idx]\n",
    "\n",
    "            partial_sum += min_factor*coins[min_factor_idx]\n",
    "\n",
    "            selected_coins.append(coins[min_factor_idx])\n",
    "            selected_factors.append(min_factor)\n",
    "\n",
    "            left -= min_factor*coins[min_factor_idx]\n",
    "\n",
    "            if partial_sum==ttl:\n",
    "                break\n",
    "        else:\n",
    "            if use_single_coin:\n",
    "                return {'number of coins':1,'coin factor':single_factor,\n",
    "                        'coins':single_coin,'remainder':ttl-(single_factor*single_coin)}\n",
    "            else:\n",
    "                return -1\n",
    "            \n",
    "    return {'number of coins':len(selected_coins),'coin factor':selected_factors,\n",
    "            'coins':selected_coins,'remainder':ttl-partial_sum}"
   ]
  },
  {
   "cell_type": "code",
   "execution_count": 6,
   "id": "0278ef8f",
   "metadata": {},
   "outputs": [
    {
     "name": "stdout",
     "output_type": "stream",
     "text": [
      "{'number of coins': 2, 'coin factor': [1, 2], 'coins': [10, 1], 'remainder': 0}\n",
      "{'number of coins': 2, 'coin factor': [8, 4], 'coins': [25, 1], 'remainder': 0}\n",
      "{'number of coins': 3, 'coin factor': [2, 1, 3], 'coins': [25, 10, 1], 'remainder': 0}\n",
      "{'number of coins': 4, 'coin factor': [1, 1, 1, 3], 'coins': [25, 10, 5, 1], 'remainder': 0}\n",
      "\n",
      "{'number of coins': 1, 'coin factor': 4, 'coins': 3, 'remainder': 0}\n",
      "{'number of coins': 3, 'coin factor': [2, 2, 2], 'coins': [73, 26, 3], 'remainder': 0}\n",
      "{'number of coins': 1, 'coin factor': 21, 'coins': 3, 'remainder': 0}\n",
      "{'number of coins': 3, 'coin factor': [1, 2, 1], 'coins': [26, 7, 3], 'remainder': 0}\n",
      "\n",
      "{'number of coins': 2, 'coin factor': [1, 1], 'coins': [10, 2], 'remainder': 0}\n",
      "{'number of coins': 2, 'coin factor': [4, 2], 'coins': [50, 2], 'remainder': 0}\n",
      "{'number of coins': 4, 'coin factor': [1, 1, 1, 1], 'coins': [50, 10, 2, 1], 'remainder': 0}\n",
      "{'number of coins': 3, 'coin factor': [2, 1, 1], 'coins': [20, 2, 1], 'remainder': 0}\n"
     ]
    }
   ],
   "source": [
    "print(change(UScoins,12))\n",
    "print(change(UScoins,204))\n",
    "print(change(UScoins,63))\n",
    "print(change(UScoins,43))\n",
    "print()\n",
    "print(change(Alien_coins,12))\n",
    "print(change(Alien_coins,204))\n",
    "print(change(Alien_coins,63))\n",
    "print(change(Alien_coins,43))\n",
    "print()\n",
    "print(change(Frenchcoins,12))\n",
    "print(change(Frenchcoins,204))\n",
    "print(change(Frenchcoins,63))\n",
    "print(change(Frenchcoins,43))"
   ]
  },
  {
   "cell_type": "markdown",
   "id": "e6436c36",
   "metadata": {},
   "source": [
    "This made up coinage does poorly if the min factor is the same for different coins. I could adapt my current function to this scenario but I think I'll just implement a different/better/more flexible method that can take any kind of absurd, made-up, nonsense coinage and still work. "
   ]
  },
  {
   "cell_type": "code",
   "execution_count": 7,
   "id": "0b94524f",
   "metadata": {},
   "outputs": [
    {
     "name": "stdout",
     "output_type": "stream",
     "text": [
      "-1\n",
      "-1\n"
     ]
    }
   ],
   "source": [
    "print(change(Mermaidcoins,26))\n",
    "print(change(Mermaidcoins,30))"
   ]
  },
  {
   "cell_type": "markdown",
   "id": "7c3098bc",
   "metadata": {},
   "source": [
    "#### Iterating vector method\n",
    "I'm ignoring the instructions to return a -1 if the sum cannot be represented with the given denomination of coins. Instead I return the remainder."
   ]
  },
  {
   "cell_type": "code",
   "execution_count": 8,
   "id": "236feea2",
   "metadata": {},
   "outputs": [],
   "source": [
    "def fcoin(coins,ttl):\n",
    "    factors = np.array([[1,2,3,4,5,6,7,8,9,10] for _ in range(len(coins))]).T # factors\n",
    "    left = np.array([ttl]*len(coins))\n",
    "    m,n=factors.shape\n",
    "    \n",
    "    chfL = []\n",
    "    chcL = []\n",
    "    for i in range(n):\n",
    "        coins.sort()\n",
    "        coins = coins[::-1]\n",
    "        fa = factors*coins\n",
    "        dif = (left - fa)[:,i]\n",
    "        idx = np.argsort(dif)\n",
    "        pidx = dif[idx]>=0\n",
    "        if any(pidx):\n",
    "            chf = factors[idx][pidx][0,i]\n",
    "            chc = coins[i]\n",
    "            chfL.append(chf)\n",
    "            chcL.append(chc)\n",
    "\n",
    "            left = left - (chf*chc)\n",
    "\n",
    "            left[left<0] = 0\n",
    "\n",
    "        else:\n",
    "            continue\n",
    "            \n",
    "    est = np.sum(np.array(chfL)*np.array(chcL))\n",
    "\n",
    "    return {'number of coins':np.sum(chfL),'factors':chfL,'coins':chcL,'remainder':ttl-est}\n"
   ]
  },
  {
   "cell_type": "code",
   "execution_count": 9,
   "id": "3b4d0a93",
   "metadata": {},
   "outputs": [
    {
     "name": "stdout",
     "output_type": "stream",
     "text": [
      "total given 267 for {'number of coins': 14, 'factors': [10, 1, 1, 2], 'coins': [25, 10, 5, 1], 'remainder': 0}\n",
      "total given 7 for {'number of coins': 3, 'factors': [1, 2], 'coins': [5, 1], 'remainder': 0}\n",
      "total given 73 for {'number of coins': 7, 'factors': [2, 2, 3], 'coins': [25, 10, 1], 'remainder': 0}\n",
      "total given 49 for {'number of coins': 7, 'factors': [1, 2, 4], 'coins': [25, 10, 1], 'remainder': 0}\n"
     ]
    }
   ],
   "source": [
    "UScoins = [1,5,10,25]\n",
    "print(f'total given {267} for {fcoin(UScoins,267)}')\n",
    "print(f'total given {7} for {fcoin(UScoins,7)}')\n",
    "print(f'total given {73} for {fcoin(UScoins,73)}')\n",
    "print(f'total given {49} for {fcoin(UScoins,49)}')"
   ]
  },
  {
   "cell_type": "code",
   "execution_count": 10,
   "id": "a7a7f652",
   "metadata": {},
   "outputs": [
    {
     "name": "stdout",
     "output_type": "stream",
     "text": [
      "total given 267 for {'number of coins': 7, 'factors': [3, 1, 3], 'coins': [73, 26, 7], 'remainder': 1}\n",
      "total given 7 for {'number of coins': 1, 'factors': [1], 'coins': [7], 'remainder': 0}\n",
      "total given 73 for {'number of coins': 1, 'factors': [1], 'coins': [73], 'remainder': 0}\n",
      "total given 49 for {'number of coins': 4, 'factors': [1, 3], 'coins': [26, 7], 'remainder': 2}\n"
     ]
    }
   ],
   "source": [
    "Alien_coins = [3,7,26,73]\n",
    "print(f'total given {267} for {fcoin(Alien_coins,267)}')\n",
    "print(f'total given {7} for {fcoin(Alien_coins,7)}')\n",
    "print(f'total given {73} for {fcoin(Alien_coins,73)}')\n",
    "print(f'total given {49} for {fcoin(Alien_coins,49)}')"
   ]
  },
  {
   "cell_type": "code",
   "execution_count": 11,
   "id": "8b858ead",
   "metadata": {},
   "outputs": [
    {
     "name": "stdout",
     "output_type": "stream",
     "text": [
      "total given 267 for {'number of coins': 6, 'factors': [4, 1, 1], 'coins': [60, 15, 12], 'remainder': 0}\n",
      "total given 7 for {'number of coins': 0.0, 'factors': [], 'coins': [], 'remainder': 7.0}\n",
      "total given 73 for {'number of coins': 2, 'factors': [1, 1], 'coins': [60, 13], 'remainder': 0}\n",
      "total given 49 for {'number of coins': 2, 'factors': [1, 1], 'coins': [35, 13], 'remainder': 1}\n"
     ]
    }
   ],
   "source": [
    "Mermaidcoins = [12,13,15,35,60]\n",
    "print(f'total given {267} for {fcoin(Mermaidcoins,267)}')\n",
    "print(f'total given {7} for {fcoin(Mermaidcoins,7)}')\n",
    "print(f'total given {73} for {fcoin(Mermaidcoins,73)}')\n",
    "print(f'total given {49} for {fcoin(Mermaidcoins,49)}')"
   ]
  },
  {
   "cell_type": "code",
   "execution_count": 12,
   "id": "6510f039",
   "metadata": {},
   "outputs": [
    {
     "name": "stdout",
     "output_type": "stream",
     "text": [
      "total given 267 for {'number of coins': 8, 'factors': [5, 1, 1, 1], 'coins': [50, 10, 5, 2], 'remainder': 0}\n",
      "total given 7 for {'number of coins': 2, 'factors': [1, 1], 'coins': [5, 2], 'remainder': 0}\n",
      "total given 73 for {'number of coins': 4, 'factors': [1, 1, 1, 1], 'coins': [50, 20, 2, 1], 'remainder': 0}\n",
      "total given 49 for {'number of coins': 5, 'factors': [2, 1, 2], 'coins': [20, 5, 2], 'remainder': 0}\n"
     ]
    }
   ],
   "source": [
    "Frenchcoins = [1,2,5,10,20,50]\n",
    "print(f'total given {267} for {fcoin(Frenchcoins,267)}')\n",
    "print(f'total given {7} for {fcoin(Frenchcoins,7)}')\n",
    "print(f'total given {73} for {fcoin(Frenchcoins,73)}')\n",
    "print(f'total given {49} for {fcoin(Frenchcoins,49)}')"
   ]
  }
 ],
 "metadata": {
  "kernelspec": {
   "display_name": "Python 3 (ipykernel)",
   "language": "python",
   "name": "python3"
  },
  "language_info": {
   "codemirror_mode": {
    "name": "ipython",
    "version": 3
   },
   "file_extension": ".py",
   "mimetype": "text/x-python",
   "name": "python",
   "nbconvert_exporter": "python",
   "pygments_lexer": "ipython3",
   "version": "3.10.9"
  }
 },
 "nbformat": 4,
 "nbformat_minor": 5
}
